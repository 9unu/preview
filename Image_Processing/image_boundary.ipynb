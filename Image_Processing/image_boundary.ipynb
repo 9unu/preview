{
 "cells": [
  {
   "cell_type": "code",
   "execution_count": 2,
   "metadata": {},
   "outputs": [
    {
     "ename": "ModuleNotFoundError",
     "evalue": "No module named 'paddleocr'",
     "output_type": "error",
     "traceback": [
      "\u001b[1;31m---------------------------------------------------------------------------\u001b[0m",
      "\u001b[1;31mModuleNotFoundError\u001b[0m                       Traceback (most recent call last)",
      "\u001b[1;32m~\\AppData\\Local\\Temp\\ipykernel_26296\\3705028616.py\u001b[0m in \u001b[0;36m<module>\u001b[1;34m\u001b[0m\n\u001b[1;32m----> 1\u001b[1;33m \u001b[1;32mfrom\u001b[0m \u001b[0mimage_handling\u001b[0m \u001b[1;32mimport\u001b[0m \u001b[1;33m*\u001b[0m\u001b[1;33m\u001b[0m\u001b[1;33m\u001b[0m\u001b[0m\n\u001b[0m",
      "\u001b[1;32mc:\\Users\\KHU\\Desktop\\4학년 1학기\\(화,목) 창의적 종합 설계\\image_handling.py\u001b[0m in \u001b[0;36m<module>\u001b[1;34m\u001b[0m\n\u001b[1;32m----> 1\u001b[1;33m \u001b[1;32mfrom\u001b[0m \u001b[0mpaddleocr\u001b[0m \u001b[1;32mimport\u001b[0m \u001b[0mPaddleOCR\u001b[0m\u001b[1;33m,\u001b[0m\u001b[0mdraw_ocr\u001b[0m\u001b[1;33m\u001b[0m\u001b[1;33m\u001b[0m\u001b[0m\n\u001b[0m\u001b[0;32m      2\u001b[0m \u001b[1;32mfrom\u001b[0m \u001b[0mPIL\u001b[0m \u001b[1;32mimport\u001b[0m \u001b[0mImage\u001b[0m\u001b[1;33m\u001b[0m\u001b[1;33m\u001b[0m\u001b[0m\n\u001b[0;32m      3\u001b[0m \u001b[1;32mimport\u001b[0m \u001b[0mnumpy\u001b[0m \u001b[1;32mas\u001b[0m \u001b[0mnp\u001b[0m\u001b[1;33m\u001b[0m\u001b[1;33m\u001b[0m\u001b[0m\n\u001b[0;32m      4\u001b[0m \u001b[1;32mimport\u001b[0m \u001b[0mmatplotlib\u001b[0m\u001b[1;33m.\u001b[0m\u001b[0mpyplot\u001b[0m \u001b[1;32mas\u001b[0m \u001b[0mplt\u001b[0m\u001b[1;33m\u001b[0m\u001b[1;33m\u001b[0m\u001b[0m\n\u001b[0;32m      5\u001b[0m \u001b[1;32mimport\u001b[0m \u001b[0mpandas\u001b[0m \u001b[1;32mas\u001b[0m \u001b[0mpd\u001b[0m\u001b[1;33m\u001b[0m\u001b[1;33m\u001b[0m\u001b[0m\n",
      "\u001b[1;31mModuleNotFoundError\u001b[0m: No module named 'paddleocr'"
     ]
    }
   ],
   "source": [
    "from image_handling import *"
   ]
  },
  {
   "cell_type": "markdown",
   "metadata": {},
   "source": [
    "# 1. 이미지 자르기"
   ]
  },
  {
   "cell_type": "code",
   "execution_count": null,
   "metadata": {},
   "outputs": [],
   "source": [
    "slice_image_vertically('Untitled.jpg', 'image', 2000)"
   ]
  },
  {
   "cell_type": "markdown",
   "metadata": {},
   "source": [
    "# 2. OCR 수행"
   ]
  },
  {
   "cell_type": "code",
   "execution_count": null,
   "metadata": {},
   "outputs": [],
   "source": [
    "result=OCR_image('image', 'result_image',2000)"
   ]
  },
  {
   "cell_type": "markdown",
   "metadata": {},
   "source": [
    "# 3. 문자가 있는 세로 픽셀을 예측하는 모델 설계"
   ]
  },
  {
   "cell_type": "markdown",
   "metadata": {},
   "source": [
    "## 3.1 이미지의 세로 1픽셀 당 가로줄 평균 RGB값 구하기"
   ]
  },
  {
   "cell_type": "code",
   "execution_count": null,
   "metadata": {},
   "outputs": [],
   "source": [
    "low_pix_mean=RGB_extract('Untitled.jpg')"
   ]
  },
  {
   "cell_type": "code",
   "execution_count": null,
   "metadata": {},
   "outputs": [],
   "source": [
    "data = pd.DataFrame(low_pix_mean, columns=['R','G','B'])"
   ]
  },
  {
   "cell_type": "code",
   "execution_count": null,
   "metadata": {},
   "outputs": [],
   "source": [
    "data.head()"
   ]
  },
  {
   "cell_type": "markdown",
   "metadata": {},
   "source": [
    "# 3.2 문자가 있는 바운더리 구하기\n",
    "\n",
    "`바운더리 좌표`는 왼쪽 모서리부터 시계방향으로 나옴"
   ]
  },
  {
   "cell_type": "code",
   "execution_count": null,
   "metadata": {},
   "outputs": [],
   "source": [
    "print(result)"
   ]
  },
  {
   "cell_type": "code",
   "execution_count": null,
   "metadata": {},
   "outputs": [],
   "source": [
    "boundary=[]\n",
    "for pair in result:\n",
    "    top= int(min([pair[1][i][1] for i in range(4)]))+3\n",
    "    bottom=int(max([pair[1][i][1] for i in range(4)]))-3\n",
    "    boundary.append((top,bottom))"
   ]
  },
  {
   "cell_type": "code",
   "execution_count": null,
   "metadata": {},
   "outputs": [],
   "source": [
    "boundary"
   ]
  },
  {
   "cell_type": "markdown",
   "metadata": {},
   "source": [
    "## 3.3 target값 매핑"
   ]
  },
  {
   "cell_type": "code",
   "execution_count": null,
   "metadata": {},
   "outputs": [],
   "source": [
    "data['char']=0\n",
    "for pair in boundary:\n",
    "    start, end = pair\n",
    "    data.iloc[start:end+1]['char']=1"
   ]
  },
  {
   "cell_type": "code",
   "execution_count": null,
   "metadata": {},
   "outputs": [],
   "source": [
    "data.iloc[boundary[13][0]-1:boundary[13][1]+2]"
   ]
  },
  {
   "cell_type": "markdown",
   "metadata": {},
   "source": [
    "# 4. 이미지 존나 많이 크롤링해서 폴더에 넣어놓고 바운더리 미친듯이 학습"
   ]
  },
  {
   "cell_type": "code",
   "execution_count": 12,
   "metadata": {},
   "outputs": [],
   "source": [
    "total_df = pd.DataFrame(columns=['R', 'G', 'B'])"
   ]
  },
  {
   "cell_type": "code",
   "execution_count": 13,
   "metadata": {},
   "outputs": [
    {
     "name": "stdout",
     "output_type": "stream",
     "text": [
      "(860, 16988)\n",
      "[2024/03/30 22:21:44] ppocr DEBUG: Namespace(alpha=1.0, benchmark=False, beta=1.0, cls_batch_num=6, cls_image_shape='3, 48, 192', cls_model_dir='C:\\\\Users\\\\KHU/.paddleocr/whl\\\\cls\\\\ch_ppocr_mobile_v2.0_cls_infer', cls_thresh=0.9, cpu_threads=10, crop_res_save_dir='./output', det=True, det_algorithm='DB', det_box_type='quad', det_db_box_thresh=0.6, det_db_score_mode='fast', det_db_thresh=0.3, det_db_unclip_ratio=1.5, det_east_cover_thresh=0.1, det_east_nms_thresh=0.2, det_east_score_thresh=0.8, det_limit_side_len=960, det_limit_type='max', det_model_dir='C:\\\\Users\\\\KHU/.paddleocr/whl\\\\det\\\\ml\\\\Multilingual_PP-OCRv3_det_infer', det_pse_box_thresh=0.85, det_pse_min_area=16, det_pse_scale=1, det_pse_thresh=0, det_sast_nms_thresh=0.2, det_sast_score_thresh=0.5, draw_img_save_dir='./inference_results', drop_score=0.5, e2e_algorithm='PGNet', e2e_char_dict_path='./ppocr/utils/ic15_dict.txt', e2e_limit_side_len=768, e2e_limit_type='max', e2e_model_dir=None, e2e_pgnet_mode='fast', e2e_pgnet_score_thresh=0.5, e2e_pgnet_valid_set='totaltext', enable_mkldnn=False, fourier_degree=5, gpu_id=0, gpu_mem=500, help='==SUPPRESS==', image_dir=None, image_orientation=False, ir_optim=True, kie_algorithm='LayoutXLM', label_list=['0', '180'], lang='korean', layout=True, layout_dict_path=None, layout_model_dir=None, layout_nms_threshold=0.5, layout_score_threshold=0.5, max_batch_size=10, max_text_length=25, merge_no_span_structure=True, min_subgraph_size=15, mode='structure', ocr=True, ocr_order_method=None, ocr_version='PP-OCRv4', output='./output', page_num=0, precision='fp32', process_id=0, re_model_dir=None, rec=True, rec_algorithm='SVTR_LCNet', rec_batch_num=6, rec_char_dict_path='c:\\\\Users\\\\KHU\\\\anaconda3\\\\envs\\\\Crawling\\\\lib\\\\site-packages\\\\paddleocr\\\\ppocr\\\\utils\\\\dict\\\\korean_dict.txt', rec_image_inverse=True, rec_image_shape='3, 48, 320', rec_model_dir='C:\\\\Users\\\\KHU/.paddleocr/whl\\\\rec\\\\korean\\\\korean_PP-OCRv4_rec_infer', recovery=False, return_word_box=False, save_crop_res=False, save_log_path='./log_output/', scales=[8, 16, 32], ser_dict_path='../train_data/XFUND/class_list_xfun.txt', ser_model_dir=None, show_log=True, sr_batch_num=1, sr_image_shape='3, 32, 128', sr_model_dir=None, structure_version='PP-StructureV2', table=True, table_algorithm='TableAttn', table_char_dict_path=None, table_max_len=488, table_model_dir=None, total_process_num=1, type='ocr', use_angle_cls=False, use_dilation=False, use_gpu=False, use_mp=False, use_npu=False, use_onnx=False, use_pdf2docx_api=False, use_pdserving=False, use_space_char=True, use_tensorrt=False, use_visual_backbone=True, use_xpu=False, vis_font_path='./doc/fonts/simfang.ttf', warmup=False)\n",
      "[2024/03/30 22:21:45] ppocr DEBUG: dt_boxes num : 39, elapse : 0.2838611602783203\n",
      "[2024/03/30 22:21:58] ppocr DEBUG: rec_res num  : 39, elapse : 12.535406351089478\n",
      "[2024/03/30 22:21:58] ppocr DEBUG: dt_boxes num : 17, elapse : 0.2707185745239258\n",
      "[2024/03/30 22:22:08] ppocr DEBUG: rec_res num  : 17, elapse : 9.776202201843262\n",
      "[2024/03/30 22:22:08] ppocr DEBUG: dt_boxes num : 6, elapse : 0.2705423831939697\n",
      "[2024/03/30 22:22:12] ppocr DEBUG: rec_res num  : 6, elapse : 3.311152935028076\n",
      "[2024/03/30 22:22:12] ppocr DEBUG: dt_boxes num : 26, elapse : 0.261185884475708\n",
      "[2024/03/30 22:22:21] ppocr DEBUG: rec_res num  : 26, elapse : 8.633792638778687\n",
      "[2024/03/30 22:22:21] ppocr DEBUG: dt_boxes num : 41, elapse : 0.2782104015350342\n",
      "[2024/03/30 22:22:34] ppocr DEBUG: rec_res num  : 41, elapse : 13.35106611251831\n",
      "[2024/03/30 22:22:35] ppocr DEBUG: dt_boxes num : 11, elapse : 0.2679588794708252\n",
      "[2024/03/30 22:22:41] ppocr DEBUG: rec_res num  : 11, elapse : 5.84916353225708\n",
      "[2024/03/30 22:22:41] ppocr DEBUG: dt_boxes num : 34, elapse : 0.26549816131591797\n",
      "[2024/03/30 22:22:53] ppocr DEBUG: rec_res num  : 34, elapse : 12.230367422103882\n",
      "[2024/03/30 22:22:53] ppocr DEBUG: dt_boxes num : 25, elapse : 0.26700401306152344\n",
      "[2024/03/30 22:23:02] ppocr DEBUG: rec_res num  : 25, elapse : 8.237201929092407\n",
      "[2024/03/30 22:23:02] ppocr DEBUG: dt_boxes num : 8, elapse : 0.5338900089263916\n",
      "[2024/03/30 22:23:05] ppocr DEBUG: rec_res num  : 8, elapse : 2.6320228576660156\n",
      "[2024/03/30 22:23:05] ppocr DEBUG: dt_boxes num : 58, elapse : 0.2962789535522461\n",
      "[2024/03/30 22:23:24] ppocr DEBUG: rec_res num  : 58, elapse : 18.352785110473633\n",
      "[2024/03/30 22:23:24] ppocr DEBUG: dt_boxes num : 183, elapse : 0.33566761016845703\n",
      "[2024/03/30 22:24:24] ppocr DEBUG: rec_res num  : 183, elapse : 60.32836723327637\n",
      "[2024/03/30 22:24:25] ppocr DEBUG: dt_boxes num : 0, elapse : 0.02138972282409668\n",
      "[2024/03/30 22:24:25] ppocr DEBUG: rec_res num  : 0, elapse : 0.0\n",
      "           R      G      B  char\n",
      "16983  209.0  230.0  249.0   0.0\n",
      "16984  209.0  230.0  249.0   0.0\n",
      "16985  209.0  230.0  249.0   0.0\n",
      "16986  209.0  230.0  249.0   0.0\n",
      "16987  209.0  230.0  249.0   0.0\n",
      "총 데이터 수: 16988\n",
      "(900, 22042)\n",
      "[2024/03/30 22:24:44] ppocr DEBUG: Namespace(alpha=1.0, benchmark=False, beta=1.0, cls_batch_num=6, cls_image_shape='3, 48, 192', cls_model_dir='C:\\\\Users\\\\KHU/.paddleocr/whl\\\\cls\\\\ch_ppocr_mobile_v2.0_cls_infer', cls_thresh=0.9, cpu_threads=10, crop_res_save_dir='./output', det=True, det_algorithm='DB', det_box_type='quad', det_db_box_thresh=0.6, det_db_score_mode='fast', det_db_thresh=0.3, det_db_unclip_ratio=1.5, det_east_cover_thresh=0.1, det_east_nms_thresh=0.2, det_east_score_thresh=0.8, det_limit_side_len=960, det_limit_type='max', det_model_dir='C:\\\\Users\\\\KHU/.paddleocr/whl\\\\det\\\\ml\\\\Multilingual_PP-OCRv3_det_infer', det_pse_box_thresh=0.85, det_pse_min_area=16, det_pse_scale=1, det_pse_thresh=0, det_sast_nms_thresh=0.2, det_sast_score_thresh=0.5, draw_img_save_dir='./inference_results', drop_score=0.5, e2e_algorithm='PGNet', e2e_char_dict_path='./ppocr/utils/ic15_dict.txt', e2e_limit_side_len=768, e2e_limit_type='max', e2e_model_dir=None, e2e_pgnet_mode='fast', e2e_pgnet_score_thresh=0.5, e2e_pgnet_valid_set='totaltext', enable_mkldnn=False, fourier_degree=5, gpu_id=0, gpu_mem=500, help='==SUPPRESS==', image_dir=None, image_orientation=False, ir_optim=True, kie_algorithm='LayoutXLM', label_list=['0', '180'], lang='korean', layout=True, layout_dict_path=None, layout_model_dir=None, layout_nms_threshold=0.5, layout_score_threshold=0.5, max_batch_size=10, max_text_length=25, merge_no_span_structure=True, min_subgraph_size=15, mode='structure', ocr=True, ocr_order_method=None, ocr_version='PP-OCRv4', output='./output', page_num=0, precision='fp32', process_id=0, re_model_dir=None, rec=True, rec_algorithm='SVTR_LCNet', rec_batch_num=6, rec_char_dict_path='c:\\\\Users\\\\KHU\\\\anaconda3\\\\envs\\\\Crawling\\\\lib\\\\site-packages\\\\paddleocr\\\\ppocr\\\\utils\\\\dict\\\\korean_dict.txt', rec_image_inverse=True, rec_image_shape='3, 48, 320', rec_model_dir='C:\\\\Users\\\\KHU/.paddleocr/whl\\\\rec\\\\korean\\\\korean_PP-OCRv4_rec_infer', recovery=False, return_word_box=False, save_crop_res=False, save_log_path='./log_output/', scales=[8, 16, 32], ser_dict_path='../train_data/XFUND/class_list_xfun.txt', ser_model_dir=None, show_log=True, sr_batch_num=1, sr_image_shape='3, 32, 128', sr_model_dir=None, structure_version='PP-StructureV2', table=True, table_algorithm='TableAttn', table_char_dict_path=None, table_max_len=488, table_model_dir=None, total_process_num=1, type='ocr', use_angle_cls=False, use_dilation=False, use_gpu=False, use_mp=False, use_npu=False, use_onnx=False, use_pdf2docx_api=False, use_pdserving=False, use_space_char=True, use_tensorrt=False, use_visual_backbone=True, use_xpu=False, vis_font_path='./doc/fonts/simfang.ttf', warmup=False)\n",
      "[2024/03/30 22:24:45] ppocr DEBUG: dt_boxes num : 50, elapse : 0.3077554702758789\n",
      "[2024/03/30 22:25:01] ppocr DEBUG: rec_res num  : 50, elapse : 15.948991537094116\n",
      "[2024/03/30 22:25:01] ppocr DEBUG: dt_boxes num : 30, elapse : 0.32044482231140137\n",
      "[2024/03/30 22:25:10] ppocr DEBUG: rec_res num  : 30, elapse : 9.36503553390503\n",
      "[2024/03/30 22:25:11] ppocr DEBUG: dt_boxes num : 28, elapse : 0.2998237609863281\n",
      "[2024/03/30 22:25:20] ppocr DEBUG: rec_res num  : 28, elapse : 8.915935516357422\n",
      "[2024/03/30 22:25:20] ppocr DEBUG: dt_boxes num : 41, elapse : 0.2973594665527344\n",
      "[2024/03/30 22:25:33] ppocr DEBUG: rec_res num  : 41, elapse : 13.337262153625488\n",
      "[2024/03/30 22:25:34] ppocr DEBUG: dt_boxes num : 87, elapse : 0.332749605178833\n",
      "[2024/03/30 22:26:02] ppocr DEBUG: rec_res num  : 87, elapse : 28.49213981628418\n",
      "[2024/03/30 22:26:03] ppocr DEBUG: dt_boxes num : 46, elapse : 0.3030118942260742\n",
      "[2024/03/30 22:26:17] ppocr DEBUG: rec_res num  : 46, elapse : 14.479591131210327\n",
      "[2024/03/30 22:26:18] ppocr DEBUG: dt_boxes num : 77, elapse : 0.2837848663330078\n",
      "[2024/03/30 22:26:44] ppocr DEBUG: rec_res num  : 77, elapse : 26.07963752746582\n",
      "[2024/03/30 22:26:44] ppocr DEBUG: dt_boxes num : 35, elapse : 0.31737852096557617\n",
      "[2024/03/30 22:26:56] ppocr DEBUG: rec_res num  : 35, elapse : 11.998573303222656\n",
      "[2024/03/30 22:26:57] ppocr DEBUG: dt_boxes num : 32, elapse : 0.2868039608001709\n",
      "[2024/03/30 22:27:07] ppocr DEBUG: rec_res num  : 32, elapse : 10.529141664505005\n",
      "[2024/03/30 22:27:08] ppocr DEBUG: dt_boxes num : 58, elapse : 0.29947876930236816\n",
      "[2024/03/30 22:27:26] ppocr DEBUG: rec_res num  : 58, elapse : 18.50932025909424\n",
      "[2024/03/30 22:27:27] ppocr DEBUG: dt_boxes num : 183, elapse : 0.31636714935302734\n",
      "[2024/03/30 22:28:26] ppocr DEBUG: rec_res num  : 183, elapse : 59.75525689125061\n",
      "[2024/03/30 22:28:27] ppocr DEBUG: dt_boxes num : 0, elapse : 0.0203402042388916\n",
      "[2024/03/30 22:28:27] ppocr DEBUG: rec_res num  : 0, elapse : 0.0\n",
      "           R      G      B  char\n",
      "39025  250.0  250.0  250.0   0.0\n",
      "39026  250.0  250.0  250.0   0.0\n",
      "39027  250.0  250.0  250.0   0.0\n",
      "39028  250.0  250.0  250.0   0.0\n",
      "39029  250.0  250.0  250.0   0.0\n",
      "총 데이터 수: 39030\n",
      "(860, 32913)\n",
      "[2024/03/30 22:28:53] ppocr DEBUG: Namespace(alpha=1.0, benchmark=False, beta=1.0, cls_batch_num=6, cls_image_shape='3, 48, 192', cls_model_dir='C:\\\\Users\\\\KHU/.paddleocr/whl\\\\cls\\\\ch_ppocr_mobile_v2.0_cls_infer', cls_thresh=0.9, cpu_threads=10, crop_res_save_dir='./output', det=True, det_algorithm='DB', det_box_type='quad', det_db_box_thresh=0.6, det_db_score_mode='fast', det_db_thresh=0.3, det_db_unclip_ratio=1.5, det_east_cover_thresh=0.1, det_east_nms_thresh=0.2, det_east_score_thresh=0.8, det_limit_side_len=960, det_limit_type='max', det_model_dir='C:\\\\Users\\\\KHU/.paddleocr/whl\\\\det\\\\ml\\\\Multilingual_PP-OCRv3_det_infer', det_pse_box_thresh=0.85, det_pse_min_area=16, det_pse_scale=1, det_pse_thresh=0, det_sast_nms_thresh=0.2, det_sast_score_thresh=0.5, draw_img_save_dir='./inference_results', drop_score=0.5, e2e_algorithm='PGNet', e2e_char_dict_path='./ppocr/utils/ic15_dict.txt', e2e_limit_side_len=768, e2e_limit_type='max', e2e_model_dir=None, e2e_pgnet_mode='fast', e2e_pgnet_score_thresh=0.5, e2e_pgnet_valid_set='totaltext', enable_mkldnn=False, fourier_degree=5, gpu_id=0, gpu_mem=500, help='==SUPPRESS==', image_dir=None, image_orientation=False, ir_optim=True, kie_algorithm='LayoutXLM', label_list=['0', '180'], lang='korean', layout=True, layout_dict_path=None, layout_model_dir=None, layout_nms_threshold=0.5, layout_score_threshold=0.5, max_batch_size=10, max_text_length=25, merge_no_span_structure=True, min_subgraph_size=15, mode='structure', ocr=True, ocr_order_method=None, ocr_version='PP-OCRv4', output='./output', page_num=0, precision='fp32', process_id=0, re_model_dir=None, rec=True, rec_algorithm='SVTR_LCNet', rec_batch_num=6, rec_char_dict_path='c:\\\\Users\\\\KHU\\\\anaconda3\\\\envs\\\\Crawling\\\\lib\\\\site-packages\\\\paddleocr\\\\ppocr\\\\utils\\\\dict\\\\korean_dict.txt', rec_image_inverse=True, rec_image_shape='3, 48, 320', rec_model_dir='C:\\\\Users\\\\KHU/.paddleocr/whl\\\\rec\\\\korean\\\\korean_PP-OCRv4_rec_infer', recovery=False, return_word_box=False, save_crop_res=False, save_log_path='./log_output/', scales=[8, 16, 32], ser_dict_path='../train_data/XFUND/class_list_xfun.txt', ser_model_dir=None, show_log=True, sr_batch_num=1, sr_image_shape='3, 32, 128', sr_model_dir=None, structure_version='PP-StructureV2', table=True, table_algorithm='TableAttn', table_char_dict_path=None, table_max_len=488, table_model_dir=None, total_process_num=1, type='ocr', use_angle_cls=False, use_dilation=False, use_gpu=False, use_mp=False, use_npu=False, use_onnx=False, use_pdf2docx_api=False, use_pdserving=False, use_space_char=True, use_tensorrt=False, use_visual_backbone=True, use_xpu=False, vis_font_path='./doc/fonts/simfang.ttf', warmup=False)\n",
      "[2024/03/30 22:28:54] ppocr DEBUG: dt_boxes num : 10, elapse : 0.26201295852661133\n",
      "[2024/03/30 22:28:57] ppocr DEBUG: rec_res num  : 10, elapse : 3.3209474086761475\n",
      "[2024/03/30 22:28:58] ppocr DEBUG: dt_boxes num : 31, elapse : 0.274463415145874\n",
      "[2024/03/30 22:29:07] ppocr DEBUG: rec_res num  : 31, elapse : 9.66261887550354\n",
      "[2024/03/30 22:29:08] ppocr DEBUG: dt_boxes num : 5, elapse : 0.26700472831726074\n",
      "[2024/03/30 22:29:09] ppocr DEBUG: rec_res num  : 5, elapse : 1.6113290786743164\n",
      "[2024/03/30 22:29:10] ppocr DEBUG: dt_boxes num : 34, elapse : 0.2655625343322754\n",
      "[2024/03/30 22:29:20] ppocr DEBUG: rec_res num  : 34, elapse : 10.440226793289185\n",
      "[2024/03/30 22:29:21] ppocr DEBUG: dt_boxes num : 17, elapse : 0.26999497413635254\n",
      "[2024/03/30 22:29:26] ppocr DEBUG: rec_res num  : 17, elapse : 5.225757122039795\n",
      "[2024/03/30 22:29:26] ppocr DEBUG: dt_boxes num : 26, elapse : 0.25918126106262207\n",
      "[2024/03/30 22:29:34] ppocr DEBUG: rec_res num  : 26, elapse : 8.098039865493774\n",
      "[2024/03/30 22:29:35] ppocr DEBUG: dt_boxes num : 33, elapse : 0.2691366672515869\n",
      "[2024/03/30 22:29:45] ppocr DEBUG: rec_res num  : 33, elapse : 10.39497685432434\n",
      "[2024/03/30 22:29:45] ppocr DEBUG: dt_boxes num : 31, elapse : 0.2756366729736328\n",
      "[2024/03/30 22:29:56] ppocr DEBUG: rec_res num  : 31, elapse : 10.765434980392456\n",
      "[2024/03/30 22:29:56] ppocr DEBUG: dt_boxes num : 27, elapse : 0.28678226470947266\n",
      "[2024/03/30 22:30:05] ppocr DEBUG: rec_res num  : 27, elapse : 8.57795238494873\n",
      "[2024/03/30 22:30:05] ppocr DEBUG: dt_boxes num : 21, elapse : 0.2846353054046631\n",
      "[2024/03/30 22:30:12] ppocr DEBUG: rec_res num  : 21, elapse : 6.462367057800293\n",
      "[2024/03/30 22:30:12] ppocr DEBUG: dt_boxes num : 25, elapse : 0.27744555473327637\n",
      "[2024/03/30 22:30:20] ppocr DEBUG: rec_res num  : 25, elapse : 7.84703254699707\n",
      "[2024/03/30 22:30:20] ppocr DEBUG: dt_boxes num : 27, elapse : 0.2817802429199219\n",
      "[2024/03/30 22:30:29] ppocr DEBUG: rec_res num  : 27, elapse : 8.75968050956726\n",
      "[2024/03/30 22:30:29] ppocr DEBUG: dt_boxes num : 5, elapse : 0.27063822746276855\n",
      "[2024/03/30 22:30:31] ppocr DEBUG: rec_res num  : 5, elapse : 1.5597290992736816\n",
      "[2024/03/30 22:30:31] ppocr DEBUG: dt_boxes num : 6, elapse : 0.26625633239746094\n",
      "[2024/03/30 22:30:33] ppocr DEBUG: rec_res num  : 6, elapse : 1.9261620044708252\n",
      "[2024/03/30 22:30:34] ppocr DEBUG: dt_boxes num : 27, elapse : 0.267897367477417\n",
      "[2024/03/30 22:30:42] ppocr DEBUG: rec_res num  : 27, elapse : 8.87230896949768\n",
      "[2024/03/30 22:30:43] ppocr DEBUG: dt_boxes num : 24, elapse : 0.2686600685119629\n",
      "[2024/03/30 22:30:51] ppocr DEBUG: rec_res num  : 24, elapse : 8.228159189224243\n",
      "[2024/03/30 22:30:52] ppocr DEBUG: dt_boxes num : 76, elapse : 0.5303902626037598\n",
      "[2024/03/30 22:31:16] ppocr DEBUG: rec_res num  : 76, elapse : 24.279244422912598\n",
      "           R      G      B  char\n",
      "71938  255.0  255.0  255.0   0.0\n",
      "71939  255.0  255.0  255.0   0.0\n",
      "71940  255.0  255.0  255.0   0.0\n",
      "71941  255.0  255.0  255.0   0.0\n",
      "71942  255.0  255.0  255.0   0.0\n",
      "총 데이터 수: 71943\n",
      "(860, 23016)\n",
      "[2024/03/30 22:31:35] ppocr DEBUG: Namespace(alpha=1.0, benchmark=False, beta=1.0, cls_batch_num=6, cls_image_shape='3, 48, 192', cls_model_dir='C:\\\\Users\\\\KHU/.paddleocr/whl\\\\cls\\\\ch_ppocr_mobile_v2.0_cls_infer', cls_thresh=0.9, cpu_threads=10, crop_res_save_dir='./output', det=True, det_algorithm='DB', det_box_type='quad', det_db_box_thresh=0.6, det_db_score_mode='fast', det_db_thresh=0.3, det_db_unclip_ratio=1.5, det_east_cover_thresh=0.1, det_east_nms_thresh=0.2, det_east_score_thresh=0.8, det_limit_side_len=960, det_limit_type='max', det_model_dir='C:\\\\Users\\\\KHU/.paddleocr/whl\\\\det\\\\ml\\\\Multilingual_PP-OCRv3_det_infer', det_pse_box_thresh=0.85, det_pse_min_area=16, det_pse_scale=1, det_pse_thresh=0, det_sast_nms_thresh=0.2, det_sast_score_thresh=0.5, draw_img_save_dir='./inference_results', drop_score=0.5, e2e_algorithm='PGNet', e2e_char_dict_path='./ppocr/utils/ic15_dict.txt', e2e_limit_side_len=768, e2e_limit_type='max', e2e_model_dir=None, e2e_pgnet_mode='fast', e2e_pgnet_score_thresh=0.5, e2e_pgnet_valid_set='totaltext', enable_mkldnn=False, fourier_degree=5, gpu_id=0, gpu_mem=500, help='==SUPPRESS==', image_dir=None, image_orientation=False, ir_optim=True, kie_algorithm='LayoutXLM', label_list=['0', '180'], lang='korean', layout=True, layout_dict_path=None, layout_model_dir=None, layout_nms_threshold=0.5, layout_score_threshold=0.5, max_batch_size=10, max_text_length=25, merge_no_span_structure=True, min_subgraph_size=15, mode='structure', ocr=True, ocr_order_method=None, ocr_version='PP-OCRv4', output='./output', page_num=0, precision='fp32', process_id=0, re_model_dir=None, rec=True, rec_algorithm='SVTR_LCNet', rec_batch_num=6, rec_char_dict_path='c:\\\\Users\\\\KHU\\\\anaconda3\\\\envs\\\\Crawling\\\\lib\\\\site-packages\\\\paddleocr\\\\ppocr\\\\utils\\\\dict\\\\korean_dict.txt', rec_image_inverse=True, rec_image_shape='3, 48, 320', rec_model_dir='C:\\\\Users\\\\KHU/.paddleocr/whl\\\\rec\\\\korean\\\\korean_PP-OCRv4_rec_infer', recovery=False, return_word_box=False, save_crop_res=False, save_log_path='./log_output/', scales=[8, 16, 32], ser_dict_path='../train_data/XFUND/class_list_xfun.txt', ser_model_dir=None, show_log=True, sr_batch_num=1, sr_image_shape='3, 32, 128', sr_model_dir=None, structure_version='PP-StructureV2', table=True, table_algorithm='TableAttn', table_char_dict_path=None, table_max_len=488, table_model_dir=None, total_process_num=1, type='ocr', use_angle_cls=False, use_dilation=False, use_gpu=False, use_mp=False, use_npu=False, use_onnx=False, use_pdf2docx_api=False, use_pdserving=False, use_space_char=True, use_tensorrt=False, use_visual_backbone=True, use_xpu=False, vis_font_path='./doc/fonts/simfang.ttf', warmup=False)\n",
      "[2024/03/30 22:31:36] ppocr DEBUG: dt_boxes num : 29, elapse : 0.3030877113342285\n",
      "[2024/03/30 22:31:45] ppocr DEBUG: rec_res num  : 29, elapse : 9.424391269683838\n",
      "[2024/03/30 22:31:46] ppocr DEBUG: dt_boxes num : 46, elapse : 0.26825785636901855\n",
      "[2024/03/30 22:32:08] ppocr DEBUG: rec_res num  : 46, elapse : 21.782829761505127\n",
      "[2024/03/30 22:32:08] ppocr DEBUG: dt_boxes num : 43, elapse : 0.295304536819458\n",
      "[2024/03/30 22:32:23] ppocr DEBUG: rec_res num  : 43, elapse : 14.643730878829956\n",
      "[2024/03/30 22:32:23] ppocr DEBUG: dt_boxes num : 20, elapse : 0.28505468368530273\n",
      "[2024/03/30 22:32:33] ppocr DEBUG: rec_res num  : 20, elapse : 10.019482851028442\n",
      "[2024/03/30 22:32:33] ppocr DEBUG: dt_boxes num : 31, elapse : 0.26551151275634766\n",
      "[2024/03/30 22:32:47] ppocr DEBUG: rec_res num  : 31, elapse : 13.14495325088501\n",
      "[2024/03/30 22:32:47] ppocr DEBUG: dt_boxes num : 31, elapse : 0.26389145851135254\n",
      "[2024/03/30 22:32:58] ppocr DEBUG: rec_res num  : 31, elapse : 10.766242742538452\n",
      "[2024/03/30 22:32:58] ppocr DEBUG: dt_boxes num : 46, elapse : 0.26427531242370605\n",
      "[2024/03/30 22:33:20] ppocr DEBUG: rec_res num  : 46, elapse : 22.281888246536255\n",
      "[2024/03/30 22:33:21] ppocr DEBUG: dt_boxes num : 47, elapse : 0.28653597831726074\n",
      "[2024/03/30 22:33:40] ppocr DEBUG: rec_res num  : 47, elapse : 19.691595554351807\n",
      "[2024/03/30 22:33:41] ppocr DEBUG: dt_boxes num : 34, elapse : 0.2846343517303467\n",
      "[2024/03/30 22:33:59] ppocr DEBUG: rec_res num  : 34, elapse : 18.346848487854004\n",
      "[2024/03/30 22:34:00] ppocr DEBUG: dt_boxes num : 24, elapse : 0.30344271659851074\n",
      "[2024/03/30 22:34:10] ppocr DEBUG: rec_res num  : 24, elapse : 10.46718955039978\n",
      "[2024/03/30 22:34:10] ppocr DEBUG: dt_boxes num : 42, elapse : 0.3037869930267334\n",
      "[2024/03/30 22:34:28] ppocr DEBUG: rec_res num  : 42, elapse : 17.556936502456665\n",
      "[2024/03/30 22:34:29] ppocr DEBUG: dt_boxes num : 3, elapse : 0.5345416069030762\n",
      "[2024/03/30 22:34:30] ppocr DEBUG: rec_res num  : 3, elapse : 1.0360982418060303\n",
      "           R      G      B  char\n",
      "94954  255.0  255.0  255.0   0.0\n",
      "94955  255.0  255.0  255.0   0.0\n",
      "94956  255.0  255.0  255.0   0.0\n",
      "94957  255.0  255.0  255.0   0.0\n",
      "94958  255.0  255.0  255.0   0.0\n",
      "총 데이터 수: 94959\n",
      "(1074, 23953)\n",
      "[2024/03/30 22:34:55] ppocr DEBUG: Namespace(alpha=1.0, benchmark=False, beta=1.0, cls_batch_num=6, cls_image_shape='3, 48, 192', cls_model_dir='C:\\\\Users\\\\KHU/.paddleocr/whl\\\\cls\\\\ch_ppocr_mobile_v2.0_cls_infer', cls_thresh=0.9, cpu_threads=10, crop_res_save_dir='./output', det=True, det_algorithm='DB', det_box_type='quad', det_db_box_thresh=0.6, det_db_score_mode='fast', det_db_thresh=0.3, det_db_unclip_ratio=1.5, det_east_cover_thresh=0.1, det_east_nms_thresh=0.2, det_east_score_thresh=0.8, det_limit_side_len=960, det_limit_type='max', det_model_dir='C:\\\\Users\\\\KHU/.paddleocr/whl\\\\det\\\\ml\\\\Multilingual_PP-OCRv3_det_infer', det_pse_box_thresh=0.85, det_pse_min_area=16, det_pse_scale=1, det_pse_thresh=0, det_sast_nms_thresh=0.2, det_sast_score_thresh=0.5, draw_img_save_dir='./inference_results', drop_score=0.5, e2e_algorithm='PGNet', e2e_char_dict_path='./ppocr/utils/ic15_dict.txt', e2e_limit_side_len=768, e2e_limit_type='max', e2e_model_dir=None, e2e_pgnet_mode='fast', e2e_pgnet_score_thresh=0.5, e2e_pgnet_valid_set='totaltext', enable_mkldnn=False, fourier_degree=5, gpu_id=0, gpu_mem=500, help='==SUPPRESS==', image_dir=None, image_orientation=False, ir_optim=True, kie_algorithm='LayoutXLM', label_list=['0', '180'], lang='korean', layout=True, layout_dict_path=None, layout_model_dir=None, layout_nms_threshold=0.5, layout_score_threshold=0.5, max_batch_size=10, max_text_length=25, merge_no_span_structure=True, min_subgraph_size=15, mode='structure', ocr=True, ocr_order_method=None, ocr_version='PP-OCRv4', output='./output', page_num=0, precision='fp32', process_id=0, re_model_dir=None, rec=True, rec_algorithm='SVTR_LCNet', rec_batch_num=6, rec_char_dict_path='c:\\\\Users\\\\KHU\\\\anaconda3\\\\envs\\\\Crawling\\\\lib\\\\site-packages\\\\paddleocr\\\\ppocr\\\\utils\\\\dict\\\\korean_dict.txt', rec_image_inverse=True, rec_image_shape='3, 48, 320', rec_model_dir='C:\\\\Users\\\\KHU/.paddleocr/whl\\\\rec\\\\korean\\\\korean_PP-OCRv4_rec_infer', recovery=False, return_word_box=False, save_crop_res=False, save_log_path='./log_output/', scales=[8, 16, 32], ser_dict_path='../train_data/XFUND/class_list_xfun.txt', ser_model_dir=None, show_log=True, sr_batch_num=1, sr_image_shape='3, 32, 128', sr_model_dir=None, structure_version='PP-StructureV2', table=True, table_algorithm='TableAttn', table_char_dict_path=None, table_max_len=488, table_model_dir=None, total_process_num=1, type='ocr', use_angle_cls=False, use_dilation=False, use_gpu=False, use_mp=False, use_npu=False, use_onnx=False, use_pdf2docx_api=False, use_pdserving=False, use_space_char=True, use_tensorrt=False, use_visual_backbone=True, use_xpu=False, vis_font_path='./doc/fonts/simfang.ttf', warmup=False)\n",
      "[2024/03/30 22:34:57] ppocr DEBUG: dt_boxes num : 16, elapse : 0.3697929382324219\n",
      "[2024/03/30 22:35:02] ppocr DEBUG: rec_res num  : 16, elapse : 5.259272575378418\n",
      "[2024/03/30 22:35:02] ppocr DEBUG: dt_boxes num : 25, elapse : 0.35191798210144043\n",
      "[2024/03/30 22:35:11] ppocr DEBUG: rec_res num  : 25, elapse : 8.631065130233765\n",
      "[2024/03/30 22:35:12] ppocr DEBUG: dt_boxes num : 19, elapse : 0.3699169158935547\n",
      "[2024/03/30 22:35:18] ppocr DEBUG: rec_res num  : 19, elapse : 6.523454427719116\n",
      "[2024/03/30 22:35:19] ppocr DEBUG: dt_boxes num : 21, elapse : 0.37722253799438477\n",
      "[2024/03/30 22:35:26] ppocr DEBUG: rec_res num  : 21, elapse : 7.762953281402588\n",
      "[2024/03/30 22:35:27] ppocr DEBUG: dt_boxes num : 21, elapse : 0.35305142402648926\n",
      "[2024/03/30 22:35:34] ppocr DEBUG: rec_res num  : 21, elapse : 7.0199854373931885\n",
      "[2024/03/30 22:35:34] ppocr DEBUG: dt_boxes num : 39, elapse : 0.3538074493408203\n",
      "[2024/03/30 22:35:52] ppocr DEBUG: rec_res num  : 39, elapse : 17.74915075302124\n",
      "[2024/03/30 22:35:52] ppocr DEBUG: dt_boxes num : 15, elapse : 0.3437988758087158\n",
      "[2024/03/30 22:35:58] ppocr DEBUG: rec_res num  : 15, elapse : 5.2541046142578125\n",
      "[2024/03/30 22:35:58] ppocr DEBUG: dt_boxes num : 31, elapse : 0.36115312576293945\n",
      "[2024/03/30 22:36:10] ppocr DEBUG: rec_res num  : 31, elapse : 11.958229303359985\n",
      "[2024/03/30 22:36:11] ppocr DEBUG: dt_boxes num : 8, elapse : 0.3544788360595703\n",
      "[2024/03/30 22:36:13] ppocr DEBUG: rec_res num  : 8, elapse : 2.9514167308807373\n",
      "[2024/03/30 22:36:14] ppocr DEBUG: dt_boxes num : 14, elapse : 0.35916900634765625\n",
      "[2024/03/30 22:36:20] ppocr DEBUG: rec_res num  : 14, elapse : 6.394406795501709\n",
      "[2024/03/30 22:36:21] ppocr DEBUG: dt_boxes num : 10, elapse : 0.3683953285217285\n",
      "[2024/03/30 22:36:27] ppocr DEBUG: rec_res num  : 10, elapse : 5.799578428268433\n",
      "[2024/03/30 22:36:27] ppocr DEBUG: dt_boxes num : 9, elapse : 0.41184496879577637\n",
      "[2024/03/30 22:36:30] ppocr DEBUG: rec_res num  : 9, elapse : 3.003633975982666\n",
      "            R      G      B  char\n",
      "118907  255.0  255.0  255.0   0.0\n",
      "118908  255.0  255.0  255.0   0.0\n",
      "118909  255.0  255.0  255.0   0.0\n",
      "118910  255.0  255.0  255.0   0.0\n",
      "118911  255.0  255.0  255.0   0.0\n",
      "총 데이터 수: 118912\n",
      "(860, 16829)\n",
      "[2024/03/30 22:36:44] ppocr DEBUG: Namespace(alpha=1.0, benchmark=False, beta=1.0, cls_batch_num=6, cls_image_shape='3, 48, 192', cls_model_dir='C:\\\\Users\\\\KHU/.paddleocr/whl\\\\cls\\\\ch_ppocr_mobile_v2.0_cls_infer', cls_thresh=0.9, cpu_threads=10, crop_res_save_dir='./output', det=True, det_algorithm='DB', det_box_type='quad', det_db_box_thresh=0.6, det_db_score_mode='fast', det_db_thresh=0.3, det_db_unclip_ratio=1.5, det_east_cover_thresh=0.1, det_east_nms_thresh=0.2, det_east_score_thresh=0.8, det_limit_side_len=960, det_limit_type='max', det_model_dir='C:\\\\Users\\\\KHU/.paddleocr/whl\\\\det\\\\ml\\\\Multilingual_PP-OCRv3_det_infer', det_pse_box_thresh=0.85, det_pse_min_area=16, det_pse_scale=1, det_pse_thresh=0, det_sast_nms_thresh=0.2, det_sast_score_thresh=0.5, draw_img_save_dir='./inference_results', drop_score=0.5, e2e_algorithm='PGNet', e2e_char_dict_path='./ppocr/utils/ic15_dict.txt', e2e_limit_side_len=768, e2e_limit_type='max', e2e_model_dir=None, e2e_pgnet_mode='fast', e2e_pgnet_score_thresh=0.5, e2e_pgnet_valid_set='totaltext', enable_mkldnn=False, fourier_degree=5, gpu_id=0, gpu_mem=500, help='==SUPPRESS==', image_dir=None, image_orientation=False, ir_optim=True, kie_algorithm='LayoutXLM', label_list=['0', '180'], lang='korean', layout=True, layout_dict_path=None, layout_model_dir=None, layout_nms_threshold=0.5, layout_score_threshold=0.5, max_batch_size=10, max_text_length=25, merge_no_span_structure=True, min_subgraph_size=15, mode='structure', ocr=True, ocr_order_method=None, ocr_version='PP-OCRv4', output='./output', page_num=0, precision='fp32', process_id=0, re_model_dir=None, rec=True, rec_algorithm='SVTR_LCNet', rec_batch_num=6, rec_char_dict_path='c:\\\\Users\\\\KHU\\\\anaconda3\\\\envs\\\\Crawling\\\\lib\\\\site-packages\\\\paddleocr\\\\ppocr\\\\utils\\\\dict\\\\korean_dict.txt', rec_image_inverse=True, rec_image_shape='3, 48, 320', rec_model_dir='C:\\\\Users\\\\KHU/.paddleocr/whl\\\\rec\\\\korean\\\\korean_PP-OCRv4_rec_infer', recovery=False, return_word_box=False, save_crop_res=False, save_log_path='./log_output/', scales=[8, 16, 32], ser_dict_path='../train_data/XFUND/class_list_xfun.txt', ser_model_dir=None, show_log=True, sr_batch_num=1, sr_image_shape='3, 32, 128', sr_model_dir=None, structure_version='PP-StructureV2', table=True, table_algorithm='TableAttn', table_char_dict_path=None, table_max_len=488, table_model_dir=None, total_process_num=1, type='ocr', use_angle_cls=False, use_dilation=False, use_gpu=False, use_mp=False, use_npu=False, use_onnx=False, use_pdf2docx_api=False, use_pdserving=False, use_space_char=True, use_tensorrt=False, use_visual_backbone=True, use_xpu=False, vis_font_path='./doc/fonts/simfang.ttf', warmup=False)\n",
      "[2024/03/30 22:36:45] ppocr DEBUG: dt_boxes num : 35, elapse : 0.30171847343444824\n",
      "[2024/03/30 22:36:57] ppocr DEBUG: rec_res num  : 35, elapse : 12.212753057479858\n",
      "[2024/03/30 22:36:58] ppocr DEBUG: dt_boxes num : 38, elapse : 0.2877655029296875\n",
      "[2024/03/30 22:37:10] ppocr DEBUG: rec_res num  : 38, elapse : 12.432838439941406\n",
      "[2024/03/30 22:37:11] ppocr DEBUG: dt_boxes num : 33, elapse : 0.2884855270385742\n",
      "[2024/03/30 22:37:22] ppocr DEBUG: rec_res num  : 33, elapse : 11.573298215866089\n",
      "[2024/03/30 22:37:23] ppocr DEBUG: dt_boxes num : 18, elapse : 0.316786527633667\n",
      "[2024/03/30 22:37:29] ppocr DEBUG: rec_res num  : 18, elapse : 5.9896159172058105\n",
      "[2024/03/30 22:37:29] ppocr DEBUG: dt_boxes num : 26, elapse : 0.284252405166626\n",
      "[2024/03/30 22:37:38] ppocr DEBUG: rec_res num  : 26, elapse : 8.811429262161255\n",
      "[2024/03/30 22:37:38] ppocr DEBUG: dt_boxes num : 19, elapse : 0.26422953605651855\n",
      "[2024/03/30 22:37:44] ppocr DEBUG: rec_res num  : 19, elapse : 6.164473295211792\n",
      "[2024/03/30 22:37:45] ppocr DEBUG: dt_boxes num : 26, elapse : 0.26662230491638184\n",
      "[2024/03/30 22:37:53] ppocr DEBUG: rec_res num  : 26, elapse : 8.645355224609375\n",
      "[2024/03/30 22:37:54] ppocr DEBUG: dt_boxes num : 30, elapse : 0.2664527893066406\n",
      "[2024/03/30 22:38:05] ppocr DEBUG: rec_res num  : 30, elapse : 11.444830417633057\n",
      "[2024/03/30 22:38:06] ppocr DEBUG: dt_boxes num : 49, elapse : 0.6359872817993164\n",
      "[2024/03/30 22:38:25] ppocr DEBUG: rec_res num  : 49, elapse : 18.691283226013184\n",
      "           R     G     B  char\n",
      "135736  51.0  49.0  52.0   0.0\n",
      "135737  51.0  49.0  52.0   0.0\n",
      "135738  51.0  49.0  52.0   0.0\n",
      "135739  51.0  49.0  52.0   0.0\n",
      "135740  51.0  49.0  52.0   0.0\n",
      "총 데이터 수: 135741\n",
      "(860, 14957)\n",
      "[2024/03/30 22:38:38] ppocr DEBUG: Namespace(alpha=1.0, benchmark=False, beta=1.0, cls_batch_num=6, cls_image_shape='3, 48, 192', cls_model_dir='C:\\\\Users\\\\KHU/.paddleocr/whl\\\\cls\\\\ch_ppocr_mobile_v2.0_cls_infer', cls_thresh=0.9, cpu_threads=10, crop_res_save_dir='./output', det=True, det_algorithm='DB', det_box_type='quad', det_db_box_thresh=0.6, det_db_score_mode='fast', det_db_thresh=0.3, det_db_unclip_ratio=1.5, det_east_cover_thresh=0.1, det_east_nms_thresh=0.2, det_east_score_thresh=0.8, det_limit_side_len=960, det_limit_type='max', det_model_dir='C:\\\\Users\\\\KHU/.paddleocr/whl\\\\det\\\\ml\\\\Multilingual_PP-OCRv3_det_infer', det_pse_box_thresh=0.85, det_pse_min_area=16, det_pse_scale=1, det_pse_thresh=0, det_sast_nms_thresh=0.2, det_sast_score_thresh=0.5, draw_img_save_dir='./inference_results', drop_score=0.5, e2e_algorithm='PGNet', e2e_char_dict_path='./ppocr/utils/ic15_dict.txt', e2e_limit_side_len=768, e2e_limit_type='max', e2e_model_dir=None, e2e_pgnet_mode='fast', e2e_pgnet_score_thresh=0.5, e2e_pgnet_valid_set='totaltext', enable_mkldnn=False, fourier_degree=5, gpu_id=0, gpu_mem=500, help='==SUPPRESS==', image_dir=None, image_orientation=False, ir_optim=True, kie_algorithm='LayoutXLM', label_list=['0', '180'], lang='korean', layout=True, layout_dict_path=None, layout_model_dir=None, layout_nms_threshold=0.5, layout_score_threshold=0.5, max_batch_size=10, max_text_length=25, merge_no_span_structure=True, min_subgraph_size=15, mode='structure', ocr=True, ocr_order_method=None, ocr_version='PP-OCRv4', output='./output', page_num=0, precision='fp32', process_id=0, re_model_dir=None, rec=True, rec_algorithm='SVTR_LCNet', rec_batch_num=6, rec_char_dict_path='c:\\\\Users\\\\KHU\\\\anaconda3\\\\envs\\\\Crawling\\\\lib\\\\site-packages\\\\paddleocr\\\\ppocr\\\\utils\\\\dict\\\\korean_dict.txt', rec_image_inverse=True, rec_image_shape='3, 48, 320', rec_model_dir='C:\\\\Users\\\\KHU/.paddleocr/whl\\\\rec\\\\korean\\\\korean_PP-OCRv4_rec_infer', recovery=False, return_word_box=False, save_crop_res=False, save_log_path='./log_output/', scales=[8, 16, 32], ser_dict_path='../train_data/XFUND/class_list_xfun.txt', ser_model_dir=None, show_log=True, sr_batch_num=1, sr_image_shape='3, 32, 128', sr_model_dir=None, structure_version='PP-StructureV2', table=True, table_algorithm='TableAttn', table_char_dict_path=None, table_max_len=488, table_model_dir=None, total_process_num=1, type='ocr', use_angle_cls=False, use_dilation=False, use_gpu=False, use_mp=False, use_npu=False, use_onnx=False, use_pdf2docx_api=False, use_pdserving=False, use_space_char=True, use_tensorrt=False, use_visual_backbone=True, use_xpu=False, vis_font_path='./doc/fonts/simfang.ttf', warmup=False)\n",
      "[2024/03/30 22:38:39] ppocr DEBUG: dt_boxes num : 42, elapse : 0.3085358142852783\n",
      "[2024/03/30 22:38:55] ppocr DEBUG: rec_res num  : 42, elapse : 15.530468940734863\n",
      "[2024/03/30 22:38:55] ppocr DEBUG: dt_boxes num : 32, elapse : 0.28944969177246094\n",
      "[2024/03/30 22:39:06] ppocr DEBUG: rec_res num  : 32, elapse : 11.164042472839355\n",
      "[2024/03/30 22:39:07] ppocr DEBUG: dt_boxes num : 51, elapse : 0.32075953483581543\n",
      "[2024/03/30 22:39:25] ppocr DEBUG: rec_res num  : 51, elapse : 18.677826642990112\n",
      "[2024/03/30 22:39:26] ppocr DEBUG: dt_boxes num : 55, elapse : 0.26896047592163086\n",
      "[2024/03/30 22:39:46] ppocr DEBUG: rec_res num  : 55, elapse : 19.930559873580933\n",
      "[2024/03/30 22:39:46] ppocr DEBUG: dt_boxes num : 43, elapse : 0.2869601249694824\n",
      "[2024/03/30 22:40:00] ppocr DEBUG: rec_res num  : 43, elapse : 14.366777896881104\n",
      "[2024/03/30 22:40:01] ppocr DEBUG: dt_boxes num : 60, elapse : 0.27124619483947754\n",
      "[2024/03/30 22:40:21] ppocr DEBUG: rec_res num  : 60, elapse : 20.43360710144043\n",
      "[2024/03/30 22:40:22] ppocr DEBUG: dt_boxes num : 27, elapse : 0.28884434700012207\n",
      "[2024/03/30 22:40:31] ppocr DEBUG: rec_res num  : 27, elapse : 9.135787963867188\n",
      "[2024/03/30 22:40:32] ppocr DEBUG: dt_boxes num : 43, elapse : 0.6083805561065674\n",
      "[2024/03/30 22:40:49] ppocr DEBUG: rec_res num  : 43, elapse : 16.990666389465332\n",
      "          R    G    B  char\n",
      "150693  0.0  0.0  0.0   0.0\n",
      "150694  0.0  0.0  0.0   0.0\n",
      "150695  0.0  0.0  0.0   0.0\n",
      "150696  0.0  0.0  0.0   0.0\n",
      "150697  0.0  0.0  0.0   0.0\n",
      "총 데이터 수: 150698\n",
      "(860, 17200)\n",
      "[2024/03/30 22:41:03] ppocr DEBUG: Namespace(alpha=1.0, benchmark=False, beta=1.0, cls_batch_num=6, cls_image_shape='3, 48, 192', cls_model_dir='C:\\\\Users\\\\KHU/.paddleocr/whl\\\\cls\\\\ch_ppocr_mobile_v2.0_cls_infer', cls_thresh=0.9, cpu_threads=10, crop_res_save_dir='./output', det=True, det_algorithm='DB', det_box_type='quad', det_db_box_thresh=0.6, det_db_score_mode='fast', det_db_thresh=0.3, det_db_unclip_ratio=1.5, det_east_cover_thresh=0.1, det_east_nms_thresh=0.2, det_east_score_thresh=0.8, det_limit_side_len=960, det_limit_type='max', det_model_dir='C:\\\\Users\\\\KHU/.paddleocr/whl\\\\det\\\\ml\\\\Multilingual_PP-OCRv3_det_infer', det_pse_box_thresh=0.85, det_pse_min_area=16, det_pse_scale=1, det_pse_thresh=0, det_sast_nms_thresh=0.2, det_sast_score_thresh=0.5, draw_img_save_dir='./inference_results', drop_score=0.5, e2e_algorithm='PGNet', e2e_char_dict_path='./ppocr/utils/ic15_dict.txt', e2e_limit_side_len=768, e2e_limit_type='max', e2e_model_dir=None, e2e_pgnet_mode='fast', e2e_pgnet_score_thresh=0.5, e2e_pgnet_valid_set='totaltext', enable_mkldnn=False, fourier_degree=5, gpu_id=0, gpu_mem=500, help='==SUPPRESS==', image_dir=None, image_orientation=False, ir_optim=True, kie_algorithm='LayoutXLM', label_list=['0', '180'], lang='korean', layout=True, layout_dict_path=None, layout_model_dir=None, layout_nms_threshold=0.5, layout_score_threshold=0.5, max_batch_size=10, max_text_length=25, merge_no_span_structure=True, min_subgraph_size=15, mode='structure', ocr=True, ocr_order_method=None, ocr_version='PP-OCRv4', output='./output', page_num=0, precision='fp32', process_id=0, re_model_dir=None, rec=True, rec_algorithm='SVTR_LCNet', rec_batch_num=6, rec_char_dict_path='c:\\\\Users\\\\KHU\\\\anaconda3\\\\envs\\\\Crawling\\\\lib\\\\site-packages\\\\paddleocr\\\\ppocr\\\\utils\\\\dict\\\\korean_dict.txt', rec_image_inverse=True, rec_image_shape='3, 48, 320', rec_model_dir='C:\\\\Users\\\\KHU/.paddleocr/whl\\\\rec\\\\korean\\\\korean_PP-OCRv4_rec_infer', recovery=False, return_word_box=False, save_crop_res=False, save_log_path='./log_output/', scales=[8, 16, 32], ser_dict_path='../train_data/XFUND/class_list_xfun.txt', ser_model_dir=None, show_log=True, sr_batch_num=1, sr_image_shape='3, 32, 128', sr_model_dir=None, structure_version='PP-StructureV2', table=True, table_algorithm='TableAttn', table_char_dict_path=None, table_max_len=488, table_model_dir=None, total_process_num=1, type='ocr', use_angle_cls=False, use_dilation=False, use_gpu=False, use_mp=False, use_npu=False, use_onnx=False, use_pdf2docx_api=False, use_pdserving=False, use_space_char=True, use_tensorrt=False, use_visual_backbone=True, use_xpu=False, vis_font_path='./doc/fonts/simfang.ttf', warmup=False)\n",
      "[2024/03/30 22:41:05] ppocr DEBUG: dt_boxes num : 32, elapse : 0.3496108055114746\n",
      "[2024/03/30 22:41:16] ppocr DEBUG: rec_res num  : 32, elapse : 10.900897979736328\n",
      "[2024/03/30 22:41:16] ppocr DEBUG: dt_boxes num : 34, elapse : 0.285785436630249\n",
      "[2024/03/30 22:41:27] ppocr DEBUG: rec_res num  : 34, elapse : 11.148665189743042\n",
      "[2024/03/30 22:41:28] ppocr DEBUG: dt_boxes num : 35, elapse : 0.2820918560028076\n",
      "[2024/03/30 22:41:39] ppocr DEBUG: rec_res num  : 35, elapse : 11.380019664764404\n",
      "[2024/03/30 22:41:39] ppocr DEBUG: dt_boxes num : 23, elapse : 0.2714364528656006\n",
      "[2024/03/30 22:41:47] ppocr DEBUG: rec_res num  : 23, elapse : 7.478126525878906\n",
      "[2024/03/30 22:41:47] ppocr DEBUG: dt_boxes num : 60, elapse : 0.27687907218933105\n",
      "[2024/03/30 22:42:09] ppocr DEBUG: rec_res num  : 60, elapse : 21.312440156936646\n",
      "[2024/03/30 22:42:09] ppocr DEBUG: dt_boxes num : 21, elapse : 0.29927515983581543\n",
      "[2024/03/30 22:42:16] ppocr DEBUG: rec_res num  : 21, elapse : 6.967355728149414\n",
      "[2024/03/30 22:42:16] ppocr DEBUG: dt_boxes num : 23, elapse : 0.26314783096313477\n",
      "[2024/03/30 22:42:24] ppocr DEBUG: rec_res num  : 23, elapse : 7.4662766456604\n",
      "[2024/03/30 22:42:24] ppocr DEBUG: dt_boxes num : 23, elapse : 0.28345227241516113\n",
      "[2024/03/30 22:42:32] ppocr DEBUG: rec_res num  : 23, elapse : 7.5495171546936035\n",
      "[2024/03/30 22:42:32] ppocr DEBUG: dt_boxes num : 30, elapse : 0.4745333194732666\n",
      "[2024/03/30 22:42:42] ppocr DEBUG: rec_res num  : 30, elapse : 9.737111330032349\n",
      "                 R           G           B  char\n",
      "167893  254.882558  254.893023  254.917442   0.0\n",
      "167894  254.882558  254.879070  254.863953   0.0\n",
      "167895  254.867442  254.859302  254.865116   0.0\n",
      "167896  254.893023  254.893023  254.897674   0.0\n",
      "167897  254.903488  254.916279  254.918605   0.0\n",
      "총 데이터 수: 167898\n",
      "(800, 20552)\n",
      "[2024/03/30 22:42:59] ppocr DEBUG: Namespace(alpha=1.0, benchmark=False, beta=1.0, cls_batch_num=6, cls_image_shape='3, 48, 192', cls_model_dir='C:\\\\Users\\\\KHU/.paddleocr/whl\\\\cls\\\\ch_ppocr_mobile_v2.0_cls_infer', cls_thresh=0.9, cpu_threads=10, crop_res_save_dir='./output', det=True, det_algorithm='DB', det_box_type='quad', det_db_box_thresh=0.6, det_db_score_mode='fast', det_db_thresh=0.3, det_db_unclip_ratio=1.5, det_east_cover_thresh=0.1, det_east_nms_thresh=0.2, det_east_score_thresh=0.8, det_limit_side_len=960, det_limit_type='max', det_model_dir='C:\\\\Users\\\\KHU/.paddleocr/whl\\\\det\\\\ml\\\\Multilingual_PP-OCRv3_det_infer', det_pse_box_thresh=0.85, det_pse_min_area=16, det_pse_scale=1, det_pse_thresh=0, det_sast_nms_thresh=0.2, det_sast_score_thresh=0.5, draw_img_save_dir='./inference_results', drop_score=0.5, e2e_algorithm='PGNet', e2e_char_dict_path='./ppocr/utils/ic15_dict.txt', e2e_limit_side_len=768, e2e_limit_type='max', e2e_model_dir=None, e2e_pgnet_mode='fast', e2e_pgnet_score_thresh=0.5, e2e_pgnet_valid_set='totaltext', enable_mkldnn=False, fourier_degree=5, gpu_id=0, gpu_mem=500, help='==SUPPRESS==', image_dir=None, image_orientation=False, ir_optim=True, kie_algorithm='LayoutXLM', label_list=['0', '180'], lang='korean', layout=True, layout_dict_path=None, layout_model_dir=None, layout_nms_threshold=0.5, layout_score_threshold=0.5, max_batch_size=10, max_text_length=25, merge_no_span_structure=True, min_subgraph_size=15, mode='structure', ocr=True, ocr_order_method=None, ocr_version='PP-OCRv4', output='./output', page_num=0, precision='fp32', process_id=0, re_model_dir=None, rec=True, rec_algorithm='SVTR_LCNet', rec_batch_num=6, rec_char_dict_path='c:\\\\Users\\\\KHU\\\\anaconda3\\\\envs\\\\Crawling\\\\lib\\\\site-packages\\\\paddleocr\\\\ppocr\\\\utils\\\\dict\\\\korean_dict.txt', rec_image_inverse=True, rec_image_shape='3, 48, 320', rec_model_dir='C:\\\\Users\\\\KHU/.paddleocr/whl\\\\rec\\\\korean\\\\korean_PP-OCRv4_rec_infer', recovery=False, return_word_box=False, save_crop_res=False, save_log_path='./log_output/', scales=[8, 16, 32], ser_dict_path='../train_data/XFUND/class_list_xfun.txt', ser_model_dir=None, show_log=True, sr_batch_num=1, sr_image_shape='3, 32, 128', sr_model_dir=None, structure_version='PP-StructureV2', table=True, table_algorithm='TableAttn', table_char_dict_path=None, table_max_len=488, table_model_dir=None, total_process_num=1, type='ocr', use_angle_cls=False, use_dilation=False, use_gpu=False, use_mp=False, use_npu=False, use_onnx=False, use_pdf2docx_api=False, use_pdserving=False, use_space_char=True, use_tensorrt=False, use_visual_backbone=True, use_xpu=False, vis_font_path='./doc/fonts/simfang.ttf', warmup=False)\n",
      "[2024/03/30 22:43:00] ppocr DEBUG: dt_boxes num : 20, elapse : 0.2835376262664795\n",
      "[2024/03/30 22:43:07] ppocr DEBUG: rec_res num  : 20, elapse : 6.5330915451049805\n",
      "[2024/03/30 22:43:07] ppocr DEBUG: dt_boxes num : 18, elapse : 0.34027576446533203\n",
      "[2024/03/30 22:43:15] ppocr DEBUG: rec_res num  : 18, elapse : 7.538893222808838\n",
      "[2024/03/30 22:43:15] ppocr DEBUG: dt_boxes num : 14, elapse : 0.2883288860321045\n",
      "[2024/03/30 22:43:20] ppocr DEBUG: rec_res num  : 14, elapse : 5.1720099449157715\n",
      "[2024/03/30 22:43:20] ppocr DEBUG: dt_boxes num : 15, elapse : 0.2650413513183594\n",
      "[2024/03/30 22:43:26] ppocr DEBUG: rec_res num  : 15, elapse : 5.410685062408447\n",
      "[2024/03/30 22:43:26] ppocr DEBUG: dt_boxes num : 23, elapse : 0.2638576030731201\n",
      "[2024/03/30 22:43:37] ppocr DEBUG: rec_res num  : 23, elapse : 10.678337574005127\n",
      "[2024/03/30 22:43:37] ppocr DEBUG: dt_boxes num : 31, elapse : 0.2661893367767334\n",
      "[2024/03/30 22:43:49] ppocr DEBUG: rec_res num  : 31, elapse : 11.396243333816528\n",
      "[2024/03/30 22:43:49] ppocr DEBUG: dt_boxes num : 14, elapse : 0.2739293575286865\n",
      "[2024/03/30 22:43:54] ppocr DEBUG: rec_res num  : 14, elapse : 5.337835311889648\n",
      "[2024/03/30 22:43:55] ppocr DEBUG: dt_boxes num : 3, elapse : 0.25670409202575684\n",
      "[2024/03/30 22:43:56] ppocr DEBUG: rec_res num  : 3, elapse : 1.0650780200958252\n",
      "[2024/03/30 22:43:56] ppocr DEBUG: dt_boxes num : 49, elapse : 0.26346755027770996\n",
      "[2024/03/30 22:44:13] ppocr DEBUG: rec_res num  : 49, elapse : 17.22840976715088\n",
      "[2024/03/30 22:44:14] ppocr DEBUG: dt_boxes num : 51, elapse : 0.2619178295135498\n",
      "[2024/03/30 22:44:34] ppocr DEBUG: rec_res num  : 51, elapse : 20.436623573303223\n",
      "[2024/03/30 22:44:35] ppocr DEBUG: dt_boxes num : 38, elapse : 0.4056663513183594\n",
      "[2024/03/30 22:44:50] ppocr DEBUG: rec_res num  : 38, elapse : 15.810278177261353\n",
      "            R      G      B  char\n",
      "188445  255.0  255.0  255.0   0.0\n",
      "188446  255.0  255.0  255.0   0.0\n",
      "188447  255.0  255.0  255.0   0.0\n",
      "188448  255.0  255.0  255.0   0.0\n",
      "188449  255.0  255.0  255.0   0.0\n",
      "총 데이터 수: 188450\n",
      "(860, 17037)\n",
      "[2024/03/30 22:45:05] ppocr DEBUG: Namespace(alpha=1.0, benchmark=False, beta=1.0, cls_batch_num=6, cls_image_shape='3, 48, 192', cls_model_dir='C:\\\\Users\\\\KHU/.paddleocr/whl\\\\cls\\\\ch_ppocr_mobile_v2.0_cls_infer', cls_thresh=0.9, cpu_threads=10, crop_res_save_dir='./output', det=True, det_algorithm='DB', det_box_type='quad', det_db_box_thresh=0.6, det_db_score_mode='fast', det_db_thresh=0.3, det_db_unclip_ratio=1.5, det_east_cover_thresh=0.1, det_east_nms_thresh=0.2, det_east_score_thresh=0.8, det_limit_side_len=960, det_limit_type='max', det_model_dir='C:\\\\Users\\\\KHU/.paddleocr/whl\\\\det\\\\ml\\\\Multilingual_PP-OCRv3_det_infer', det_pse_box_thresh=0.85, det_pse_min_area=16, det_pse_scale=1, det_pse_thresh=0, det_sast_nms_thresh=0.2, det_sast_score_thresh=0.5, draw_img_save_dir='./inference_results', drop_score=0.5, e2e_algorithm='PGNet', e2e_char_dict_path='./ppocr/utils/ic15_dict.txt', e2e_limit_side_len=768, e2e_limit_type='max', e2e_model_dir=None, e2e_pgnet_mode='fast', e2e_pgnet_score_thresh=0.5, e2e_pgnet_valid_set='totaltext', enable_mkldnn=False, fourier_degree=5, gpu_id=0, gpu_mem=500, help='==SUPPRESS==', image_dir=None, image_orientation=False, ir_optim=True, kie_algorithm='LayoutXLM', label_list=['0', '180'], lang='korean', layout=True, layout_dict_path=None, layout_model_dir=None, layout_nms_threshold=0.5, layout_score_threshold=0.5, max_batch_size=10, max_text_length=25, merge_no_span_structure=True, min_subgraph_size=15, mode='structure', ocr=True, ocr_order_method=None, ocr_version='PP-OCRv4', output='./output', page_num=0, precision='fp32', process_id=0, re_model_dir=None, rec=True, rec_algorithm='SVTR_LCNet', rec_batch_num=6, rec_char_dict_path='c:\\\\Users\\\\KHU\\\\anaconda3\\\\envs\\\\Crawling\\\\lib\\\\site-packages\\\\paddleocr\\\\ppocr\\\\utils\\\\dict\\\\korean_dict.txt', rec_image_inverse=True, rec_image_shape='3, 48, 320', rec_model_dir='C:\\\\Users\\\\KHU/.paddleocr/whl\\\\rec\\\\korean\\\\korean_PP-OCRv4_rec_infer', recovery=False, return_word_box=False, save_crop_res=False, save_log_path='./log_output/', scales=[8, 16, 32], ser_dict_path='../train_data/XFUND/class_list_xfun.txt', ser_model_dir=None, show_log=True, sr_batch_num=1, sr_image_shape='3, 32, 128', sr_model_dir=None, structure_version='PP-StructureV2', table=True, table_algorithm='TableAttn', table_char_dict_path=None, table_max_len=488, table_model_dir=None, total_process_num=1, type='ocr', use_angle_cls=False, use_dilation=False, use_gpu=False, use_mp=False, use_npu=False, use_onnx=False, use_pdf2docx_api=False, use_pdserving=False, use_space_char=True, use_tensorrt=False, use_visual_backbone=True, use_xpu=False, vis_font_path='./doc/fonts/simfang.ttf', warmup=False)\n",
      "[2024/03/30 22:45:06] ppocr DEBUG: dt_boxes num : 30, elapse : 0.2861337661743164\n",
      "[2024/03/30 22:45:16] ppocr DEBUG: rec_res num  : 30, elapse : 9.692078351974487\n",
      "[2024/03/30 22:45:16] ppocr DEBUG: dt_boxes num : 33, elapse : 0.2718684673309326\n",
      "[2024/03/30 22:45:27] ppocr DEBUG: rec_res num  : 33, elapse : 10.970887899398804\n",
      "[2024/03/30 22:45:27] ppocr DEBUG: dt_boxes num : 40, elapse : 0.30618906021118164\n",
      "[2024/03/30 22:45:41] ppocr DEBUG: rec_res num  : 40, elapse : 13.677639245986938\n",
      "[2024/03/30 22:45:41] ppocr DEBUG: dt_boxes num : 24, elapse : 0.3088197708129883\n",
      "[2024/03/30 22:45:49] ppocr DEBUG: rec_res num  : 24, elapse : 7.979778528213501\n",
      "[2024/03/30 22:45:50] ppocr DEBUG: dt_boxes num : 49, elapse : 0.2746005058288574\n",
      "[2024/03/30 22:46:07] ppocr DEBUG: rec_res num  : 49, elapse : 17.508330583572388\n",
      "[2024/03/30 22:46:08] ppocr DEBUG: dt_boxes num : 46, elapse : 0.2946493625640869\n",
      "[2024/03/30 22:46:25] ppocr DEBUG: rec_res num  : 46, elapse : 16.8839750289917\n",
      "[2024/03/30 22:46:25] ppocr DEBUG: dt_boxes num : 32, elapse : 0.2919144630432129\n",
      "[2024/03/30 22:46:36] ppocr DEBUG: rec_res num  : 32, elapse : 11.246074914932251\n",
      "[2024/03/30 22:46:37] ppocr DEBUG: dt_boxes num : 15, elapse : 0.26952385902404785\n",
      "[2024/03/30 22:46:42] ppocr DEBUG: rec_res num  : 15, elapse : 5.493485450744629\n",
      "[2024/03/30 22:46:43] ppocr DEBUG: dt_boxes num : 37, elapse : 0.5080509185791016\n",
      "[2024/03/30 22:46:56] ppocr DEBUG: rec_res num  : 37, elapse : 13.685264825820923\n",
      "            R      G      B  char\n",
      "205482  255.0  255.0  255.0   0.0\n",
      "205483  255.0  255.0  255.0   0.0\n",
      "205484  255.0  255.0  255.0   0.0\n",
      "205485  255.0  255.0  255.0   0.0\n",
      "205486  255.0  255.0  255.0   0.0\n",
      "총 데이터 수: 205487\n"
     ]
    }
   ],
   "source": [
    "train_image_list = os.listdir('train_image')\n",
    "for image in train_image_list:\n",
    "    # 이미지 폴더안의 이미지 경로\n",
    "    image_path=os.path.join('train_image', image)\n",
    "    # 이미지 픽셀 RGB값으로 데이터프레임 생성\n",
    "    low_pix_mean=RGB_extract(image_path)\n",
    "    data = pd.DataFrame(low_pix_mean, columns=['R','G','B'])\n",
    "    # 이미지 자르기\n",
    "    slice_image_vertically(image_path, 'image', 2000)\n",
    "    # ocr 수행\n",
    "    result=OCR_image('image', 'result_image',2000)\n",
    "    # 글자 영역 추출\n",
    "    boundary=[]\n",
    "    for pair in result:\n",
    "        top= int(min([pair[1][i][1] for i in range(4)]))+3\n",
    "        bottom=int(max([pair[1][i][1] for i in range(4)]))-3\n",
    "        boundary.append((top,bottom))\n",
    "    # 글자 영역에 맞춰서 타겟값 매핑\n",
    "    data['char']=0\n",
    "    for pair in boundary:\n",
    "        start, end = pair\n",
    "        data.iloc[start:end+1]['char']=1\n",
    "    total_df=pd.concat([total_df,data], ignore_index=True)\n",
    "    print(total_df.tail())\n",
    "    print(\"총 데이터 수:\",len(total_df))"
   ]
  },
  {
   "cell_type": "code",
   "execution_count": 14,
   "metadata": {},
   "outputs": [],
   "source": [
    "total_df.to_csv(\"RGB_data.csv\", index=False)"
   ]
  },
  {
   "cell_type": "markdown",
   "metadata": {},
   "source": [
    "# 5. 기본 머신러닝 모형으로 예측"
   ]
  },
  {
   "cell_type": "code",
   "execution_count": 5,
   "metadata": {},
   "outputs": [
    {
     "data": {
      "text/plain": [
       "[name: \"/device:CPU:0\"\n",
       " device_type: \"CPU\"\n",
       " memory_limit: 268435456\n",
       " locality {\n",
       " }\n",
       " incarnation: 633742155245386952\n",
       " xla_global_id: -1,\n",
       " name: \"/device:GPU:0\"\n",
       " device_type: \"GPU\"\n",
       " memory_limit: 5758779392\n",
       " locality {\n",
       "   bus_id: 1\n",
       "   links {\n",
       "   }\n",
       " }\n",
       " incarnation: 13332440447845105443\n",
       " physical_device_desc: \"device: 0, name: NVIDIA GeForce RTX 3060 Ti, pci bus id: 0000:01:00.0, compute capability: 8.6\"\n",
       " xla_global_id: 416903419]"
      ]
     },
     "execution_count": 5,
     "metadata": {},
     "output_type": "execute_result"
    }
   ],
   "source": [
    "from tensorflow.python.client import device_lib\n",
    "device_lib.list_local_devices()"
   ]
  },
  {
   "cell_type": "code",
   "execution_count": 1,
   "metadata": {},
   "outputs": [],
   "source": [
    "import pandas as pd\n",
    "data=pd.read_csv(r\"C:\\Users\\KHU\\Desktop\\4학년 1학기\\(화,목) 창의적 종합 설계\\RGB_data.csv\")"
   ]
  },
  {
   "cell_type": "code",
   "execution_count": 2,
   "metadata": {},
   "outputs": [
    {
     "name": "stdout",
     "output_type": "stream",
     "text": [
      "X shape : (205487, 3)\n",
      "Y shape : (205487,)\n"
     ]
    }
   ],
   "source": [
    "X=data.values[:,:-1]\n",
    "y=data.values[:,-1]\n",
    "print('X shape :',X.shape)\n",
    "print('Y shape :',y.shape)"
   ]
  },
  {
   "cell_type": "code",
   "execution_count": 3,
   "metadata": {},
   "outputs": [
    {
     "name": "stdout",
     "output_type": "stream",
     "text": [
      "Counter({0.0: 128551, 1.0: 35838})\n",
      "Counter({0.0: 32138, 1.0: 8960})\n"
     ]
    }
   ],
   "source": [
    "from sklearn.model_selection import train_test_split\n",
    "from collections import Counter\n",
    "\n",
    "X_train, X_test, y_train, y_test = train_test_split(X, y, test_size=0.2, shuffle=True, stratify=y, random_state=1)\n",
    "print(Counter(y_train)) \n",
    "print(Counter(y_test))"
   ]
  },
  {
   "cell_type": "code",
   "execution_count": 18,
   "metadata": {},
   "outputs": [
    {
     "name": "stdout",
     "output_type": "stream",
     "text": [
      "After undersampling:\n",
      "Counter({0.0: 35838, 1.0: 35838})\n"
     ]
    }
   ],
   "source": [
    "from sklearn.utils import resample\n",
    "import numpy as np\n",
    "# 클래스 0과 클래스 1을 분리\n",
    "X_train_class_0 = X_train[y_train == 0]\n",
    "X_train_class_1 = X_train[y_train == 1]\n",
    "\n",
    "# 클래스 0과 클래스 1의 샘플 수\n",
    "n_class_0 = len(X_train_class_0)\n",
    "n_class_1 = len(X_train_class_1)\n",
    "\n",
    "# 클래스 0의 샘플 수를 클래스 1과 동일하게 맞추기 위해 무작위 샘플링\n",
    "X_train_resampled_class_0 = resample(X_train_class_0, n_samples=n_class_1, replace=False, random_state=1)\n",
    "\n",
    "# 언더샘플링된 클래스 0과 클래스 1을 합치기\n",
    "X_train = np.concatenate([X_train_resampled_class_0, X_train_class_1])\n",
    "y_train = np.concatenate([np.zeros(n_class_1), np.ones(n_class_1)])\n",
    "\n",
    "# 언더샘플링 후 클래스 불균형 확인\n",
    "print(\"After undersampling:\")\n",
    "print(Counter(y_train))"
   ]
  },
  {
   "cell_type": "code",
   "execution_count": 19,
   "metadata": {},
   "outputs": [],
   "source": [
    "from sklearn.preprocessing import MinMaxScaler\n",
    "scaler = MinMaxScaler()\n",
    "X_train = scaler.fit_transform(X_train)\n",
    "X_test = scaler.transform(X_test)"
   ]
  },
  {
   "cell_type": "code",
   "execution_count": 21,
   "metadata": {},
   "outputs": [
    {
     "name": "stdout",
     "output_type": "stream",
     "text": [
      "Cross-validation 1:\n",
      "Classification Report:\n",
      "               precision    recall  f1-score   support\n",
      "\n",
      "         0.0       0.75      0.65      0.70      7168\n",
      "         1.0       0.69      0.79      0.74      7168\n",
      "\n",
      "    accuracy                           0.72     14336\n",
      "   macro avg       0.72      0.72      0.72     14336\n",
      "weighted avg       0.72      0.72      0.72     14336\n",
      "\n",
      "----------------------------------------------------\n",
      "Cross-validation 2:\n",
      "Classification Report:\n",
      "               precision    recall  f1-score   support\n",
      "\n",
      "         0.0       0.75      0.65      0.69      7168\n",
      "         1.0       0.69      0.78      0.73      7167\n",
      "\n",
      "    accuracy                           0.71     14335\n",
      "   macro avg       0.72      0.71      0.71     14335\n",
      "weighted avg       0.72      0.71      0.71     14335\n",
      "\n",
      "----------------------------------------------------\n",
      "Cross-validation 3:\n",
      "Classification Report:\n",
      "               precision    recall  f1-score   support\n",
      "\n",
      "         0.0       0.76      0.64      0.70      7168\n",
      "         1.0       0.69      0.80      0.74      7167\n",
      "\n",
      "    accuracy                           0.72     14335\n",
      "   macro avg       0.72      0.72      0.72     14335\n",
      "weighted avg       0.72      0.72      0.72     14335\n",
      "\n",
      "----------------------------------------------------\n",
      "Cross-validation 4:\n",
      "Classification Report:\n",
      "               precision    recall  f1-score   support\n",
      "\n",
      "         0.0       0.74      0.66      0.70      7167\n",
      "         1.0       0.69      0.77      0.73      7168\n",
      "\n",
      "    accuracy                           0.71     14335\n",
      "   macro avg       0.72      0.71      0.71     14335\n",
      "weighted avg       0.72      0.71      0.71     14335\n",
      "\n",
      "----------------------------------------------------\n",
      "Cross-validation 5:\n",
      "Classification Report:\n",
      "               precision    recall  f1-score   support\n",
      "\n",
      "         0.0       0.75      0.65      0.69      7167\n",
      "         1.0       0.69      0.78      0.73      7168\n",
      "\n",
      "    accuracy                           0.72     14335\n",
      "   macro avg       0.72      0.72      0.71     14335\n",
      "weighted avg       0.72      0.72      0.71     14335\n",
      "\n",
      "----------------------------------------------------\n"
     ]
    }
   ],
   "source": [
    "from sklearn.model_selection import cross_val_predict\n",
    "from sklearn.metrics import classification_report\n",
    "from xgboost import XGBClassifier\n",
    "from sklearn.model_selection import StratifiedKFold\n",
    "\n",
    "# XGBoost 모델 정의\n",
    "xgb = XGBClassifier(n_estimators=1000, \n",
    "                    learning_rate=0.01, \n",
    "                    subsample=0.8, \n",
    "                    colsample_bytree=0.8,\n",
    "                    objective='binary:logistic', \n",
    "                    tree_method='gpu_hist')\n",
    "\n",
    "n_splits = 5\n",
    "kf = StratifiedKFold(n_splits=n_splits, shuffle=True, random_state=42)\n",
    "\n",
    "# 교차 검증을 통한 예측값 계산 및 분류 보고서 출력\n",
    "for i, (train_index, test_index) in enumerate(kf.split(X_train, y_train)):\n",
    "    print(f\"Cross-validation {i+1}:\")\n",
    "    X_train_fold, X_val_fold = X_train[train_index], X_train[test_index]\n",
    "    y_train_fold, y_val_fold = y_train[train_index], y_train[test_index]\n",
    "    \n",
    "    # 모델 훈련\n",
    "    xgb.fit(X_train_fold, y_train_fold)\n",
    "    \n",
    "    # 검증 데이터에 대한 예측값 계산\n",
    "    y_pred_fold = xgb.predict(X_val_fold)\n",
    "    \n",
    "    # 분류 보고서 출력\n",
    "    report = classification_report(y_val_fold, y_pred_fold)\n",
    "    print(\"Classification Report:\\n\", report)\n",
    "    print(\"----------------------------------------------------\")\n"
   ]
  },
  {
   "cell_type": "markdown",
   "metadata": {},
   "source": [
    "# 6. 순차적 패턴을 고려하여 LSTM까지 설계"
   ]
  },
  {
   "cell_type": "code",
   "execution_count": null,
   "metadata": {},
   "outputs": [],
   "source": [
    "X=data.values[:,:-1]\n",
    "y=data.values[:,-1]\n",
    "print('X shape :',X.shape)\n",
    "print('Y shape :',y.shape)"
   ]
  }
 ],
 "metadata": {
  "kernelspec": {
   "display_name": "Crawling",
   "language": "python",
   "name": "python3"
  },
  "language_info": {
   "codemirror_mode": {
    "name": "ipython",
    "version": 3
   },
   "file_extension": ".py",
   "mimetype": "text/x-python",
   "name": "python",
   "nbconvert_exporter": "python",
   "pygments_lexer": "ipython3",
   "version": "3.7.12"
  }
 },
 "nbformat": 4,
 "nbformat_minor": 2
}
